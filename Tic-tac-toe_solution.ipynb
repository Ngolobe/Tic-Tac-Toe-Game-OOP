{
 "cells": [
  {
   "cell_type": "markdown",
   "metadata": {},
   "source": [
    "# Tic Tac Toe \n",
    "\n",
    " A two player with Jupyter Notebook. "
   ]
  },
  {
   "cell_type": "markdown",
   "metadata": {},
   "source": [
    "Tic-tac-toe (American English), noughts and crosses (British English), or Xs and Os is a paper-and-pencil game for two players, X and O, who take turns marking the spaces in a 3×3 grid. The player who succeeds in placing three of their marks in a horizontal, vertical, or diagonal row is the winner. \n",
    "\n",
    "In order to win the game, a player must place three of their marks in a horizontal, vertical, or diagonal row.\n",
    "\n",
    "In this notebook we will simulate a two player version of Tic Tac Toe."
   ]
  },
  {
   "cell_type": "code",
   "execution_count": 1,
   "metadata": {
    "ExecuteTime": {
     "end_time": "2020-04-23T13:26:58.123863Z",
     "start_time": "2020-04-23T13:26:58.118490Z"
    }
   },
   "outputs": [],
   "source": [
    "# Specifically for the iPython Notebook environment for clearing output.\n",
    "from IPython.display import clear_output\n",
    "\n",
    "\n",
    "# global variable\n",
    "the_board = [' '] * 10  #-->>an empty string list of 10 place holder\n",
    "game_status = True \n",
    "announce = ''"
   ]
  },
  {
   "cell_type": "markdown",
   "metadata": {},
   "source": [
    "Next make a function that will reset the board, in this case we'll store values as a list."
   ]
  },
  {
   "cell_type": "code",
   "execution_count": 2,
   "metadata": {
    "ExecuteTime": {
     "end_time": "2020-04-23T13:17:14.821447Z",
     "start_time": "2020-04-23T13:17:14.819538Z"
    }
   },
   "outputs": [],
   "source": [
    "\n",
    "def reset():\n",
    "    # call the global variable board and game_status\n",
    "    global the_board\n",
    "    global game_status\n",
    "    # set them to default value\n",
    "    #----------------------------------------------\n",
    "    the_board = [' '] * 10\n",
    "    game_status = True \n",
    "    #-----------------------------------------\n"
   ]
  },
  {
   "cell_type": "markdown",
   "metadata": {},
   "source": [
    "Now create a function to display the board, "
   ]
  },
  {
   "cell_type": "code",
   "execution_count": 3,
   "metadata": {
    "ExecuteTime": {
     "end_time": "2020-04-23T13:31:14.783731Z",
     "start_time": "2020-04-23T13:31:14.781927Z"
    }
   },
   "outputs": [],
   "source": [
    "def show_board():\n",
    "    #---------------------------------------\n",
    "    #call the function to clear output\n",
    "    clear_output()\n",
    "    #------------------------------\n",
    " \n",
    "    \n",
    "    # Print board\n",
    "    #---------------------------------------------------------\n",
    "    # hint: print (\"  \"+board[7]+\" |\"+board[8]+\" | \"+board[9]+\" \")\n",
    "    # follow the similar pattern for 3x3 board\n",
    "    \n",
    "    \n",
    "    print (\"  \"+the_board[1]+\" |\"+the_board[2]+\" | \"+the_board[3]+\" \")\n",
    "    print (\"  \"+the_board[4]+\" |\"+the_board[5]+\" | \"+the_board[6]+\" \")  \n",
    "    print (\"  \"+the_board[7]+\" |\"+the_board[8]+\" | \"+the_board[9]+\" \") \n",
    "    #---------------------------------------------------------------\n"
   ]
  },
  {
   "cell_type": "markdown",
   "metadata": {},
   "source": [
    "Define a function to check for a win by comparing inputs in the board list."
   ]
  },
  {
   "cell_type": "code",
   "execution_count": 4,
   "metadata": {
    "ExecuteTime": {
     "end_time": "2020-04-23T13:21:59.170187Z",
     "start_time": "2020-04-23T13:21:59.162193Z"
    }
   },
   "outputs": [],
   "source": [
    "def win_check(the_board, mark):\n",
    "    #------------------------------------------\n",
    "    return ((the_board[1] == mark and the_board[2] == mark and the_board[3] == mark) or   # Rows\n",
    "    (the_board[4] == mark and the_board[5] == mark and the_board[6] == mark) or\n",
    "    (the_board[7] == mark and the_board[8] == mark and the_board[9] == mark) or\n",
    "    (the_board[1] == mark and the_board[4] == mark and the_board[7] == mark) or   # Columns\n",
    "    (the_board[2] == mark and the_board[5] == mark and the_board[8] == mark) or\n",
    "    (the_board[3] == mark and the_board[6] == mark and the_board[9] == mark) or\n",
    "    (the_board[1] == mark and the_board[5] == mark and the_board[9] == mark) or   # Diagonals\n",
    "    (the_board[3] == mark and the_board[5] == mark and the_board[7] == mark))\n",
    "        \n"
   ]
  },
  {
   "cell_type": "markdown",
   "metadata": {},
   "source": [
    "Define function to check if the board is already full in case of a tie. "
   ]
  },
  {
   "cell_type": "code",
   "execution_count": 5,
   "metadata": {
    "ExecuteTime": {
     "end_time": "2020-04-23T13:17:14.835185Z",
     "start_time": "2020-04-23T13:17:14.833147Z"
    },
    "jupyter": {
     "outputs_hidden": true
    }
   },
   "outputs": [],
   "source": [
    "def check_board(the_board):\n",
    "    #----------------------------------------------------------\n",
    "    for position in the_board[1:10]:\n",
    "        if position == ' ':\n",
    "            return False\n",
    "    return True\n",
    "    #-------------------------------------------------------"
   ]
  },
  {
   "cell_type": "markdown",
   "metadata": {},
   "source": [
    "Now define a function to get player input and do various checks on it."
   ]
  },
  {
   "cell_type": "code",
   "execution_count": 6,
   "metadata": {
    "ExecuteTime": {
     "end_time": "2020-04-23T13:18:02.542122Z",
     "start_time": "2020-04-23T13:18:02.534312Z"
    },
    "jupyter": {
     "outputs_hidden": true
    }
   },
   "outputs": [],
   "source": [
    "def ask_player(mark):\n",
    "    ''' Asks player where to place X or O mark, checks validity '''\n",
    "    # call global variable board\n",
    "    global the_board\n",
    "    \n",
    "    # define a variable which hold mark\n",
    "    holder = 'Choose where to place your: ' + mark\n",
    "    while True:\n",
    "        # use try and except to input the choice\n",
    "        try:\n",
    "            # declare a variable choice to input a user given number \n",
    "            place = int(input(holder))\n",
    "        except ValueError:\n",
    "            print(\"Please input an integer in from 1-9\")\n",
    "            continue\n",
    "        #-------------------------------------------------\n",
    "        # write a conditon to to check if the choice is in range or not\n",
    "        if place not in range(1, 10):\n",
    "            print(\"Please input an integer in from 1-9\")\n",
    "            continue\n",
    "        if the_board[place].isspace():\n",
    "            # set the choice of board to mark\n",
    "            the_board[place] = mark\n",
    "            break\n",
    "        else:\n",
    "            print (\"That space taken!\")\n",
    "            continue\n",
    "\n",
    "\n",
    "    "
   ]
  },
  {
   "cell_type": "markdown",
   "metadata": {},
   "source": [
    "Now have a function that takes in the player's choice (via the ask_player function) then returns the game_state."
   ]
  },
  {
   "cell_type": "code",
   "execution_count": 7,
   "metadata": {
    "ExecuteTime": {
     "end_time": "2020-04-23T13:18:03.279212Z",
     "start_time": "2020-04-23T13:18:03.266710Z"
    }
   },
   "outputs": [],
   "source": [
    "def player_choice(mark):\n",
    "    # call all the global variable\n",
    "    global the_board\n",
    "    global game_status\n",
    "    global announce\n",
    "    #Set announce to empty string\n",
    "    announce = ''\n",
    "    mark = str(mark)\n",
    "    # call a function ask_player\n",
    "    ask_player(mark)\n",
    "\n",
    "    #Check for player win\n",
    "    if win_check(the_board,mark):\n",
    "        #--------------------------\n",
    "        #call function to clear the output and show the board\n",
    "        show_board()\n",
    "        announce = mark +\" wins! Congratulations\"\n",
    "        #set the game_state to false\n",
    "        game_status = False\n",
    "    else:    \n",
    "        show_board()\n",
    "\n",
    "    #Check for a tie \n",
    "    #-----------------------------------\n",
    "      #call function to check the tie\n",
    "    \n",
    "    if game_status and check_board(the_board):\n",
    "        announce = \"Tie!\"\n",
    "        #set game status to False\n",
    "        \n",
    "        game_status = False\n",
    "        \n",
    "    #-------------------------------\n",
    "        \n",
    "    return game_status,announce\n"
   ]
  },
  {
   "cell_type": "markdown",
   "metadata": {},
   "source": [
    "Finally put it all together in a function to play the game."
   ]
  },
  {
   "cell_type": "code",
   "execution_count": 8,
   "metadata": {
    "ExecuteTime": {
     "end_time": "2020-04-23T13:18:03.898560Z",
     "start_time": "2020-04-23T13:18:03.895615Z"
    }
   },
   "outputs": [],
   "source": [
    "def play_game():\n",
    "    #call the function to reset the global value\n",
    "    reset()\n",
    "    global announce\n",
    "    \n",
    "    # Set marks\n",
    "    X='X'\n",
    "    O='O'\n",
    "    while True:\n",
    "        # call the function to clear the output and to display the board\n",
    "        show_board()\n",
    "        \n",
    "        # Player X turn\n",
    "        # call the function player choice and hold it in a variable game_satus and announce\n",
    "        game_status, announce = player_choice(X)\n",
    "        print (announce)\n",
    "        #if status of game is false stop it\n",
    "        #-------------------------------\n",
    "        if not game_status:\n",
    "            break\n",
    "        #-------------------------------\n",
    "        \n",
    "            \n",
    "        # Player O turn\n",
    "        #-------------------------\n",
    "        #hint: do the exact thing as you did for for player x\n",
    "        game_status, announce = player_choice(O)\n",
    "        print (announce)\n",
    "        #if status of game is false stop it\n",
    "        #-------------------------------\n",
    "        if not game_status:\n",
    "            break\n",
    "        #----------------------------\n",
    "        \n",
    "    # Ask player for a rematch\n",
    "    #----------------------------------------------\n",
    "    rematch = input('Would you like a rematch? y/n')\n",
    "    # use if condition is user give 'y' play game again \n",
    "    if rematch == 'y':\n",
    "        play_game()\n",
    "    else:\n",
    "        print (\"Welcome again!\")\n",
    "        \n",
    "     #-----------------------------\n",
    "    "
   ]
  },
  {
   "cell_type": "markdown",
   "metadata": {},
   "source": [
    "Time to play!"
   ]
  },
  {
   "cell_type": "code",
   "execution_count": 9,
   "metadata": {
    "ExecuteTime": {
     "end_time": "2020-04-23T13:18:19.158497Z",
     "start_time": "2020-04-23T13:18:05.292785Z"
    }
   },
   "outputs": [
    {
     "name": "stdout",
     "output_type": "stream",
     "text": [
      "  X |X | X \n",
      "    |O |   \n",
      "    |O |   \n",
      "X wins! Congratulations\n",
      "Would you like a rematch? y/nn\n",
      "Welcome again!\n"
     ]
    }
   ],
   "source": [
    "play_game()"
   ]
  },
  {
   "cell_type": "markdown",
   "metadata": {},
   "source": [
    "#### "
   ]
  },
  {
   "cell_type": "code",
   "execution_count": null,
   "metadata": {},
   "outputs": [],
   "source": []
  },
  {
   "cell_type": "code",
   "execution_count": null,
   "metadata": {},
   "outputs": [],
   "source": []
  }
 ],
 "metadata": {
  "kernelspec": {
   "display_name": "Python 3",
   "language": "python",
   "name": "python3"
  },
  "language_info": {
   "codemirror_mode": {
    "name": "ipython",
    "version": 3
   },
   "file_extension": ".py",
   "mimetype": "text/x-python",
   "name": "python",
   "nbconvert_exporter": "python",
   "pygments_lexer": "ipython3",
   "version": "3.7.6"
  },
  "toc": {
   "base_numbering": 1,
   "nav_menu": {},
   "number_sections": true,
   "sideBar": true,
   "skip_h1_title": false,
   "title_cell": "Table of Contents",
   "title_sidebar": "Contents",
   "toc_cell": false,
   "toc_position": {},
   "toc_section_display": true,
   "toc_window_display": false
  },
  "varInspector": {
   "cols": {
    "lenName": 16,
    "lenType": 16,
    "lenVar": 40
   },
   "kernels_config": {
    "python": {
     "delete_cmd_postfix": "",
     "delete_cmd_prefix": "del ",
     "library": "var_list.py",
     "varRefreshCmd": "print(var_dic_list())"
    },
    "r": {
     "delete_cmd_postfix": ") ",
     "delete_cmd_prefix": "rm(",
     "library": "var_list.r",
     "varRefreshCmd": "cat(var_dic_list()) "
    }
   },
   "position": {
    "height": "241px",
    "left": "987px",
    "right": "20px",
    "top": "120px",
    "width": "359px"
   },
   "types_to_exclude": [
    "module",
    "function",
    "builtin_function_or_method",
    "instance",
    "_Feature"
   ],
   "window_display": false
  }
 },
 "nbformat": 4,
 "nbformat_minor": 4
}
